{
 "cells": [
  {
   "cell_type": "code",
   "execution_count": 19,
   "metadata": {},
   "outputs": [],
   "source": [
    "from partition import *\n",
    "from find_duplicates import *\n",
    "initpath = '/home/abc/trial_for_dup/usstock/usstockresearch/'\n",
    "testpath = '/home/abc/trial_for_dup/usstock/REPORT/'"
   ]
  },
  {
   "cell_type": "code",
   "execution_count": 129,
   "metadata": {},
   "outputs": [],
   "source": [
    "class PipeRun:\n",
    "    _batchrun = False\n",
    "    \n",
    "    def __init__(self, path, newdoc=None):\n",
    "        \"\"\"parameters path and newdoc should not be given at the same time.\"\"\"\n",
    "        self.duplicates = []\n",
    "        if os.path.exists(path) and os.path.isdir(path):\n",
    "            if not PipeRun._batchrun:\n",
    "                self._batchhash(path)\n",
    "            for doc in os.listdir(path):\n",
    "                cpldoc = os.path.join(path, doc)\n",
    "                ls = self.getdup(cpldoc)\n",
    "                if ls:\n",
    "                    self.duplicates.extend([ele for ele in ls if ele not in self.duplicates])\n",
    "            PipeRun._batchrun = True\n",
    "            \n",
    "        if self._batchrun and newdoc and os.path.exists(newdoc):\n",
    "            self.duplicates = self.getdup(newdoc)\n",
    "        \n",
    "\n",
    "    def indic(self, doc):\n",
    "        id_ = os.path.split(doc)[1].strip('.txt')\n",
    "        if id_ in FindSimilar.dic:\n",
    "            return True\n",
    "        return False\n",
    "        \n",
    "    def validdoc(self, doc):\n",
    "        if doc.endswith('.txt') and os.path.getsize(doc):\n",
    "            return True\n",
    "        return False\n",
    "    \n",
    "        \n",
    "    @staticmethod\n",
    "    def _checkdate(fp, sp):\n",
    "        if not os.path.exists(fp) or not os.path.exists(sp):\n",
    "            return False\n",
    "        with open(fp ,'r') as ffr:\n",
    "            fc = ffr.read()\n",
    "        with open(sp, 'r') as sfr:\n",
    "            sc = sfr.read()\n",
    "        swt = 0\n",
    "        fpatt = re.compile('\\d{4}年\\d{1,2}月\\d{1,2}日')\n",
    "        spatt = re.compile('\\d{4}/\\d{1,2}/\\d{1,2}')\n",
    "        tpatt = re.compile('\\d{1,2}/\\d{1,2}/\\d{4}')\n",
    "        \n",
    "        for patt in [fpatt, spatt, tpatt]:\n",
    "            fres, sres = re.search(patt, fc), re.search(patt, sc)\n",
    "            if fres and sres:\n",
    "                if fres.group() == sres.group():\n",
    "                    return True\n",
    "                else:\n",
    "                    return False\n",
    "            elif not fres and not sres:\n",
    "                swt += 1\n",
    "            else:\n",
    "                pass\n",
    "        return True if swt == 3 else False\n",
    "        \n",
    "\n",
    "    def _savehash(self, path):\n",
    "        \"\"\"parameter path must be a complete file path\"\"\"\n",
    "        part = Partition(doc=path)\n",
    "        partpth = part.pathto + os.path.split(path)[1]\n",
    "        if os.path.exists(partpth):\n",
    "            FindSimilar(partpth)\n",
    "            \n",
    "    def _batchhash(self, path):\n",
    "        for file in os.listdir(path):\n",
    "            if not self.indic(file) and self.validdoc(path + file):\n",
    "                self._savehash(path + file)\n",
    "            \n",
    "    \n",
    "    def getdup(self, doc):\n",
    "        \"\"\"parameter doc must be a complete file path\"\"\"\n",
    "        dups = []\n",
    "        if not self.indic(doc):\n",
    "            if os.path.exists(doc) and self.validdoc(doc):\n",
    "                self._savehash(doc)\n",
    "            else:\n",
    "                return dups\n",
    "        id_ =  os.path.split(doc)[1].strip('.txt')\n",
    "        try:\n",
    "            dup = FindSimilar.idx.get_near_dups(FindSimilar.dic[id_])\n",
    "        except KeyError:\n",
    "            return dups\n",
    "        if len(dup) >= 2:\n",
    "            dup.remove(id_)\n",
    "            pair = ((id_, oth) for oth in dup)\n",
    "            for ele in pair:\n",
    "                dis = FindSimilar.dic[ele[0]].distance(FindSimilar.dic[ele[1]])\n",
    "                if dis <= 3:\n",
    "                    fst = doc\n",
    "                    scd = os.path.join(os.path.split(doc)[0], ele[1] + '.txt')\n",
    "                    if self._checkdate(fst, scd):\n",
    "                        dis_pair = dis, set(ele)\n",
    "                        dups.append(dis_pair)\n",
    "        return dups"
   ]
  },
  {
   "cell_type": "code",
   "execution_count": 85,
   "metadata": {},
   "outputs": [
    {
     "data": {
      "text/plain": [
       "False"
      ]
     },
     "execution_count": 85,
     "metadata": {},
     "output_type": "execute_result"
    }
   ],
   "source": [
    "PipeRun._batchrun"
   ]
  },
  {
   "cell_type": "code",
   "execution_count": 35,
   "metadata": {
    "collapsed": true
   },
   "outputs": [
    {
     "name": "stdout",
     "output_type": "stream",
     "text": [
      "2155863.txt is deleted!\n",
      "12403849.txt is deleted!\n",
      "593437.txt is deleted!\n",
      "1085384.txt is deleted!\n",
      "1186459.txt is deleted!\n",
      "551258.txt is deleted!\n",
      "1302163.txt is deleted!\n",
      "355890.txt is deleted!\n",
      "12403848.txt is deleted!\n",
      "12966189.txt is deleted!\n",
      "12439492.txt is deleted!\n",
      "13037850.txt is deleted!\n",
      "506444.txt is deleted!\n",
      "622902.txt is deleted!\n",
      "597156.txt is deleted!\n",
      "2155864.txt is deleted!\n",
      "559544.txt is deleted!\n",
      "527624.txt is deleted!\n",
      "12381891.txt is deleted!\n",
      "12377803.txt is deleted!\n",
      "471432.txt is deleted!\n",
      "610612.txt is deleted!\n",
      "651369.txt is deleted!\n",
      "12977990.txt is deleted!\n",
      "11295198.txt is deleted!\n",
      "213222.txt is deleted!\n",
      "532900.txt is deleted!\n",
      "641177.txt is deleted!\n",
      "12211042.txt is deleted!\n",
      "449734.txt is deleted!\n",
      "454827.txt is deleted!\n",
      "12435943.txt is deleted!\n",
      "12960346.txt is deleted!\n",
      "2155863.txt is deleted!\n",
      "12403849.txt is deleted!\n",
      "593437.txt is deleted!\n",
      "1085384.txt is deleted!\n",
      "1186459.txt is deleted!\n",
      "551258.txt is deleted!\n",
      "1302163.txt is deleted!\n",
      "355890.txt is deleted!\n",
      "12403848.txt is deleted!\n",
      "12966189.txt is deleted!\n",
      "12439492.txt is deleted!\n",
      "13037850.txt is deleted!\n",
      "506444.txt is deleted!\n",
      "622902.txt is deleted!\n",
      "597156.txt is deleted!\n",
      "2155864.txt is deleted!\n",
      "559544.txt is deleted!\n",
      "527624.txt is deleted!\n",
      "12381891.txt is deleted!\n",
      "12377803.txt is deleted!\n",
      "471432.txt is deleted!\n",
      "610612.txt is deleted!\n",
      "651369.txt is deleted!\n",
      "12977990.txt is deleted!\n",
      "11295198.txt is deleted!\n",
      "213222.txt is deleted!\n",
      "532900.txt is deleted!\n",
      "641177.txt is deleted!\n",
      "12211042.txt is deleted!\n",
      "449734.txt is deleted!\n",
      "454827.txt is deleted!\n",
      "12435943.txt is deleted!\n",
      "12960346.txt is deleted!\n",
      "[(0, {'2151785', '2163800'}), (0, {'12412279', '12411752'}), (0, {'12561954', '12562237'}), (0, {'12878319', '12879961'}), (0, {'12460432', '12460089'}), (0, {'13004812', '13004135'}), (0, {'12405647', '12405485'}), (0, {'5863605', '2180964'}), (0, {'13003797', '13001390'}), (0, {'12746483', '12742939'}), (0, {'12746478', '12747464'}), (0, {'12440805', '12440700'}), (0, {'12409445', '12409735'}), (0, {'13020512', '13022825'}), (0, {'12430473', '12439616'}), (1, {'13811913', '2224496'}), (0, {'12842160', '12847966'}), (0, {'12842160', '12842152'}), (0, {'12933044', '12967158'}), (0, {'2239204', '2128458'}), (0, {'12547423', '12547569'}), (0, {'12463134', '12462829'}), (0, {'12847966', '12842152'}), (0, {'2254513', '2254620'}), (0, {'2242196', '13811357'}), (0, {'12983845', '12982567'}), (0, {'13040631', '13040522'}), (0, {'13015118', '13013849'}), (0, {'13013849', '13013747'}), (0, {'2147373', '2132836'}), (1, {'12856496', '12859957'}), (0, {'2223642', '13811751'}), (0, {'12943651', '12946462'}), (0, {'12563217', '12562881'}), (0, {'13012737', '13018688'}), (0, {'5549566', '2165523'}), (0, {'12415741', '12415606'}), (0, {'12954769', '12953772'}), (0, {'12403802', '12403935'}), (0, {'13831455', '13846202'}), (0, {'12405425', '12405672'}), (0, {'12637237', '12636769'}), (0, {'12994333', '13005905'}), (0, {'12994333', '12995643'}), (0, {'12844410', '12834082'}), (0, {'2148005', '2238404'}), (0, {'13027248', '13026789'}), (0, {'6048768', '5681362'}), (0, {'12740738', '12746389'}), (0, {'12461781', '12462489'}), (0, {'2027776', '2028033'}), (0, {'12938883', '12936241'}), (0, {'12936752', '12936241'}), (0, {'12972490', '12977742'}), (0, {'5863715', '6058894'}), (0, {'1808364', '1810460'}), (0, {'5550096', '13820795'}), (0, {'12591707', '12589872'}), (0, {'5676290', '6003547'}), (0, {'12494236', '12500967'}), (0, {'2028062', '2032207'}), (0, {'1854571', '1858233'}), (0, {'2163717', '2187848'}), (0, {'2162372', '2163582'}), (0, {'2236408', '2153739'}), (0, {'12737772', '12743580'}), (0, {'12423970', '12421777'}), (0, {'12993165', '12993162'}), (2, {'386421', '386420'}), (0, {'4562949', '6056164'}), (0, {'13005905', '12995643'}), (0, {'2028640', '2026179'}), (0, {'12416355', '12421510'}), (0, {'1806501', '1806218'}), (0, {'2131883', '2146920'}), (0, {'12428736', '12427989'}), (0, {'12411751', '12412312'}), (0, {'13015118', '13013747'}), (0, {'12460383', '12460296'}), (0, {'12406564', '12406295'}), (0, {'12861413', '12861015'}), (0, {'12964520', '12942587'}), (0, {'2233399', '2158165'}), (0, {'12964587', '12942644'}), (0, {'12405649', '12405483'}), (0, {'12409070', '12409284'}), (0, {'5578917', '2857586'}), (0, {'12982785', '12983819'}), (0, {'2232214', '2159482'}), (0, {'12403663', '12403423'}), (0, {'2163622', '2848408'}), (0, {'12485848', '12487067'}), (0, {'12425386', '12425117'}), (0, {'1964341', '1964512'}), (0, {'2162522', '2163315'}), (0, {'13853877', '13848451'}), (0, {'12404298', '12404382'}), (0, {'12861125', '12860648'}), (0, {'12936274', '12915554'}), (0, {'12830707', '12833685'}), (0, {'13022636', '13024157'}), (0, {'12746271', '12747481'}), (0, {'12938883', '12936752'}), (0, {'2235522', '2155540'}), (0, {'12915618', '12914214'})]\n"
     ]
    }
   ],
   "source": [
    "if __name__ == '__main__':\n",
    "    dupl = PipeRun(initpath)\n",
    "    print(dupl.duplicates)"
   ]
  },
  {
   "cell_type": "code",
   "execution_count": 126,
   "metadata": {},
   "outputs": [],
   "source": [
    "def _checkdate(fp, sp):\n",
    "        if not os.path.exists(fp) or not os.path.exists(sp):\n",
    "            return False\n",
    "        with open(fp ,'r') as ffr:\n",
    "            fc = ffr.read()\n",
    "        with open(sp, 'r') as sfr:\n",
    "            sc = sfr.read()\n",
    "        swt = 0\n",
    "        fpatt = re.compile('\\d{4}年\\d{1,2}月\\d{1,2}日')\n",
    "        spatt = re.compile('\\d{4}/\\d{1,2}/\\d{1,2}')\n",
    "        tpatt = re.compile('\\d{1,2}/\\d{1,2}/\\d{4}')\n",
    "        \n",
    "        for patt in [fpatt, spatt, tpatt]:\n",
    "            fres, sres = re.search(patt, fc), re.search(patt, sc)\n",
    "            if fres and sres:\n",
    "                if fres.group() == sres.group():\n",
    "                    print(fres.group())\n",
    "                    return True\n",
    "                else:\n",
    "                    return False\n",
    "            elif not fres and not sres:\n",
    "                swt += 1\n",
    "            else:\n",
    "                pass\n",
    "        return True if swt == 3 else False"
   ]
  },
  {
   "cell_type": "code",
   "execution_count": 127,
   "metadata": {
    "scrolled": true
   },
   "outputs": [
    {
     "data": {
      "text/plain": [
       "False"
      ]
     },
     "execution_count": 127,
     "metadata": {},
     "output_type": "execute_result"
    }
   ],
   "source": [
    "_checkdate(testpath+'2015429.txt', testpath+'12739858.txt')"
   ]
  },
  {
   "cell_type": "code",
   "execution_count": 95,
   "metadata": {},
   "outputs": [
    {
     "data": {
      "text/plain": [
       "False"
      ]
     },
     "execution_count": 95,
     "metadata": {},
     "output_type": "execute_result"
    }
   ],
   "source": [
    "os.path.exists(testpath+'2015429')"
   ]
  },
  {
   "cell_type": "code",
   "execution_count": 130,
   "metadata": {},
   "outputs": [
    {
     "name": "stdout",
     "output_type": "stream",
     "text": [
      "12449845.txt is deleted!\n",
      "12590857.txt is deleted!\n",
      "12728324.txt is deleted!\n",
      "2161966.txt is deleted!\n",
      "12408195.txt is deleted!\n",
      "12624094.txt is deleted!\n",
      "12377766.txt is deleted!\n",
      "12430660.txt is deleted!\n",
      "12732131.txt is deleted!\n",
      "12416808.txt is deleted!\n",
      "12411659.txt is deleted!\n",
      "12425362.txt is deleted!\n",
      "12423723.txt is deleted!\n",
      "12461219.txt is deleted!\n",
      "12561998.txt is deleted!\n",
      "12388710.txt is deleted!\n",
      "12449845.txt is deleted!\n",
      "12590857.txt is deleted!\n",
      "12728324.txt is deleted!\n",
      "2161966.txt is deleted!\n",
      "12408195.txt is deleted!\n",
      "12624094.txt is deleted!\n",
      "12377766.txt is deleted!\n",
      "12430660.txt is deleted!\n",
      "12732131.txt is deleted!\n",
      "12416808.txt is deleted!\n",
      "12411659.txt is deleted!\n",
      "12425362.txt is deleted!\n",
      "12423723.txt is deleted!\n",
      "12461219.txt is deleted!\n",
      "12561998.txt is deleted!\n",
      "12388710.txt is deleted!\n"
     ]
    }
   ],
   "source": [
    "dups = PipeRun(testpath)"
   ]
  },
  {
   "cell_type": "code",
   "execution_count": 125,
   "metadata": {
    "collapsed": true
   },
   "outputs": [
    {
     "data": {
      "text/plain": [
       "[(1, {'2160215', '2235811'}),\n",
       " (0, {'2132816', '2147309'}),\n",
       " (0, {'2270540', '6246810'}),\n",
       " (2, {'2190481', '2215040'}),\n",
       " (0, {'2128543', '2139619'}),\n",
       " (0, {'2158898', '2232734'}),\n",
       " (0, {'2154472', '2236086'}),\n",
       " (0, {'2261619', '6246802'}),\n",
       " (0, {'2150647', '2157175'}),\n",
       " (0, {'2133192', '2148004'}),\n",
       " (0, {'2161598', '2230213'}),\n",
       " (0, {'12427994', '12428176'}),\n",
       " (0, {'2154789', '2235850'}),\n",
       " (0, {'2221205', '2229237'}),\n",
       " (0, {'2178334', '5549872'}),\n",
       " (2, {'2202280', '2210003'}),\n",
       " (0, {'2195813', '2219595'}),\n",
       " (2, {'2160178', '2236527'}),\n",
       " (0, {'2240578', '2240624'}),\n",
       " (0, {'2129987', '2146189'}),\n",
       " (2, {'2183305', '2211192'}),\n",
       " (1, {'2144346', '2171742'}),\n",
       " (0, {'12485531', '12521971'}),\n",
       " (0, {'2094425', '2142439'}),\n",
       " (2, {'12485537', '12490314'}),\n",
       " (2, {'12425444', '12425488'}),\n",
       " (0, {'12487632', '12490606'}),\n",
       " (0, {'12430444', '12444396'}),\n",
       " (0, {'2136626', '2238187'}),\n",
       " (0, {'2146413', '2238995'}),\n",
       " (0, {'2132687', '2146413'}),\n",
       " (0, {'2047290', '2051349'}),\n",
       " (0, {'2045140', '2051349'}),\n",
       " (0, {'2004089', '2007602'}),\n",
       " (0, {'2132687', '2238995'}),\n",
       " (0, {'2224847', '2224848'}),\n",
       " (0, {'2129706', '2139939'}),\n",
       " (0, {'2147727', '2238671'}),\n",
       " (0, {'2131865', '2147760'}),\n",
       " (2, {'12722735', '12725036'}),\n",
       " (0, {'2132488', '2147140'}),\n",
       " (0, {'12446386', '12446738'}),\n",
       " (0, {'12413555', '12734899'}),\n",
       " (0, {'2108929', '2109626'}),\n",
       " (0, {'2045140', '2047290'})]"
      ]
     },
     "execution_count": 125,
     "metadata": {},
     "output_type": "execute_result"
    }
   ],
   "source": [
    "dups.duplicates"
   ]
  },
  {
   "cell_type": "code",
   "execution_count": 131,
   "metadata": {
    "scrolled": true
   },
   "outputs": [
    {
     "data": {
      "text/plain": [
       "54"
      ]
     },
     "execution_count": 131,
     "metadata": {},
     "output_type": "execute_result"
    }
   ],
   "source": [
    "len(dups.duplicates)"
   ]
  },
  {
   "cell_type": "code",
   "execution_count": 128,
   "metadata": {},
   "outputs": [],
   "source": [
    "prim = dups.duplicates"
   ]
  },
  {
   "cell_type": "code",
   "execution_count": 132,
   "metadata": {},
   "outputs": [
    {
     "data": {
      "text/plain": [
       "45"
      ]
     },
     "execution_count": 132,
     "metadata": {},
     "output_type": "execute_result"
    }
   ],
   "source": [
    "len(prim)"
   ]
  },
  {
   "cell_type": "code",
   "execution_count": 140,
   "metadata": {},
   "outputs": [],
   "source": [
    "a = {1,3}\n",
    "b = {1,2}"
   ]
  },
  {
   "cell_type": "code",
   "execution_count": 141,
   "metadata": {},
   "outputs": [],
   "source": [
    "s = a.symmetric_difference(b)"
   ]
  },
  {
   "cell_type": "code",
   "execution_count": 142,
   "metadata": {},
   "outputs": [
    {
     "data": {
      "text/plain": [
       "{2, 3}"
      ]
     },
     "execution_count": 142,
     "metadata": {},
     "output_type": "execute_result"
    }
   ],
   "source": [
    "s"
   ]
  },
  {
   "cell_type": "code",
   "execution_count": null,
   "metadata": {},
   "outputs": [],
   "source": [
    "a.symmetric_difference"
   ]
  },
  {
   "cell_type": "code",
   "execution_count": 144,
   "metadata": {},
   "outputs": [],
   "source": [
    "import itertools"
   ]
  },
  {
   "cell_type": "code",
   "execution_count": 145,
   "metadata": {},
   "outputs": [],
   "source": [
    "out = [ele for ele in dups.duplicates if ele not in prim]"
   ]
  },
  {
   "cell_type": "code",
   "execution_count": 146,
   "metadata": {},
   "outputs": [
    {
     "data": {
      "text/plain": [
       "[(0, {'12444450', '6047694'}),\n",
       " (1, {'12389460', '12409845'}),\n",
       " (0, {'2095677', '2112257'}),\n",
       " (0, {'2077866', '2112257'}),\n",
       " (0, {'2077866', '2095677'}),\n",
       " (0, {'12389024', '2248995'}),\n",
       " (0, {'2130158', '2248995'}),\n",
       " (2, {'12739858', '2015429'}),\n",
       " (0, {'12389024', '2130158'})]"
      ]
     },
     "execution_count": 146,
     "metadata": {},
     "output_type": "execute_result"
    }
   ],
   "source": [
    "out"
   ]
  },
  {
   "cell_type": "code",
   "execution_count": null,
   "metadata": {},
   "outputs": [],
   "source": []
  }
 ],
 "metadata": {
  "kernelspec": {
   "display_name": "Python 3",
   "language": "python",
   "name": "python3"
  },
  "language_info": {
   "codemirror_mode": {
    "name": "ipython",
    "version": 3
   },
   "file_extension": ".py",
   "mimetype": "text/x-python",
   "name": "python",
   "nbconvert_exporter": "python",
   "pygments_lexer": "ipython3",
   "version": "3.5.2"
  }
 },
 "nbformat": 4,
 "nbformat_minor": 2
}
